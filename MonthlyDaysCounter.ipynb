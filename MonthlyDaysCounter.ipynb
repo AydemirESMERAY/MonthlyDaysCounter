{
 "cells": [
  {
   "cell_type": "code",
   "execution_count": 1,
   "id": "ce1b5bf0-c5ae-4eb4-b9ad-e2b8acb47571",
   "metadata": {},
   "outputs": [
    {
     "name": "stdin",
     "output_type": "stream",
     "text": [
      "Enter a month (January, February, March, ..., December):  january\n",
      "Enter a year:  1887\n"
     ]
    },
    {
     "name": "stdout",
     "output_type": "stream",
     "text": [
      "January has 31 days.\n"
     ]
    }
   ],
   "source": [
    "# First, import the datetime module\n",
    "import datetime\n",
    "\n",
    "# Function to check if a year is a leap year\n",
    "def is_leap_year(year):\n",
    "    return year % 4 == 0 and (year % 100 != 0 or year % 400 == 0)\n",
    "\n",
    "# Function to calculate the number of days in a given month\n",
    "def days_in_month(month, year):\n",
    "    # Days in each month\n",
    "    month_days = [31, 28, 31, 30, 31, 30, 31, 31, 30, 31, 30, 31]\n",
    "    # Adjust February for leap years\n",
    "    if month == 2 and is_leap_year(year):\n",
    "        return 29\n",
    "    return month_days[month - 1]\n",
    "\n",
    "# Main function to get the month and year from the user and display the result\n",
    "def main_program():\n",
    "    try:\n",
    "        user_month = input(\"Enter a month (January, February, March, ..., December): \")\n",
    "        user_year = int(input(\"Enter a year: \"))\n",
    "\n",
    "        # Dictionary containing month names and their corresponding numbers\n",
    "        months = {'january': 1, 'february': 2, 'march': 3, 'april': 4, 'may': 5, 'june': 6,\n",
    "                  'july': 7, 'august': 8, 'september': 9, 'october': 10, 'november': 11, 'december': 12}\n",
    "\n",
    "        # Get the numerical value of the month entered by the user\n",
    "        month_number = months.get(user_month.lower())\n",
    "\n",
    "        if month_number is not None:\n",
    "            # Calculate the number of days\n",
    "            number_of_days = days_in_month(month_number, user_year)\n",
    "            print(f\"{user_month.capitalize()} has {number_of_days} days.\")\n",
    "        else:\n",
    "            print(\"Invalid month entry! Please enter a valid month name.\")\n",
    "    except ValueError:\n",
    "        print(\"Invalid input! Please enter a numerical year.\")\n",
    "\n",
    "# Call the main_program function when the program starts\n",
    "if __name__ == \"__main__\":\n",
    "    main_program()\n"
   ]
  }
 ],
 "metadata": {
  "kernelspec": {
   "display_name": "Python 3 (ipykernel)",
   "language": "python",
   "name": "python3"
  },
  "language_info": {
   "codemirror_mode": {
    "name": "ipython",
    "version": 3
   },
   "file_extension": ".py",
   "mimetype": "text/x-python",
   "name": "python",
   "nbconvert_exporter": "python",
   "pygments_lexer": "ipython3",
   "version": "3.9.12"
  }
 },
 "nbformat": 4,
 "nbformat_minor": 5
}
